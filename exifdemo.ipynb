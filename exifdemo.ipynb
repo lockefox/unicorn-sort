{
 "cells": [
  {
   "cell_type": "code",
   "execution_count": 42,
   "id": "functioning-taylor",
   "metadata": {},
   "outputs": [],
   "source": [
    "import exifread\n",
    "import pathlib\n",
    "import ipywidgets as widgets\n",
    "\n",
    "testdata = pathlib.Path() / \"tests/testdata\"\n",
    "star3 = testdata / \"7D2_1974.CR2\"\n",
    "star5 = testdata / \"7D2_1976.CR2\"\n"
   ]
  },
  {
   "cell_type": "code",
   "execution_count": 27,
   "id": "isolated-color",
   "metadata": {},
   "outputs": [
    {
     "name": "stdout",
     "output_type": "stream",
     "text": [
      "[PosixPath('tests/testdata/.DS_Store'), PosixPath('tests/testdata/R5A_4516.CR3'), PosixPath('tests/testdata/R5A_4515.CR3'), PosixPath('tests/testdata/R5A_4512.JPG'), PosixPath('tests/testdata/R5A_4513.JPG'), PosixPath('tests/testdata/R5A_4514.CR3'), PosixPath('tests/testdata/R5A_4516.JPG'), PosixPath('tests/testdata/R5A_4513.CR3'), PosixPath('tests/testdata/R5A_4514.JPG'), PosixPath('tests/testdata/R5A_4515.JPG'), PosixPath('tests/testdata/R5A_4512.CR3'), PosixPath('tests/testdata/.BridgeSort')]\n"
     ]
    }
   ],
   "source": [
    "print([x for x in testdata.iterdir() if x.is_file()])"
   ]
  },
  {
   "cell_type": "code",
   "execution_count": 44,
   "id": "private-meditation",
   "metadata": {},
   "outputs": [],
   "source": [
    "# Only works with cr2 files :(\n",
    "with open(star3, 'rb') as f:\n",
    "    tags3 = exifread.process_file(f)\n",
    "    \n",
    "with open(star5, 'rb') as f:\n",
    "    tags5 = exifread.process_file(f)\n",
    "    \n",
    "# display([f'{key:value}' for key, value in tags3.items()])"
   ]
  },
  {
   "cell_type": "code",
   "execution_count": 45,
   "id": "acting-victor",
   "metadata": {},
   "outputs": [
    {
     "name": "stdout",
     "output_type": "stream",
     "text": [
      "Image StripOffsets: 45792  45784\n",
      "Image StripByteCounts: 1137686  1086281\n",
      "Image DateTime: 2021:01:30 16:25:01  2021:01:30 16:25:06\n",
      "Thumbnail JPEGInterchangeFormatLength: 8260  8251\n",
      "IFD 2 StripOffsets: 1183480  1132068\n",
      "IFD 3 StripOffsets: 2043736  1992324\n",
      "IFD 3 StripByteCounts: 20204068  19666341\n",
      "EXIF ISOSpeedRatings: 200  160\n",
      "EXIF RecommendedExposureIndex: 200  160\n",
      "EXIF DateTimeOriginal: 2021:01:30 16:25:01  2021:01:30 16:25:06\n",
      "EXIF DateTimeDigitized: 2021:01:30 16:25:01  2021:01:30 16:25:06\n",
      "EXIF SubSecTime: 89  48\n",
      "EXIF SubSecTimeOriginal: 89  48\n",
      "EXIF SubSecTimeDigitized: 89  48\n",
      "MakerNote Tag 0x00AA: [12, 565, 1024, 1024, 519, 0]  [12, 568, 1024, 1024, 521, 0]\n",
      "MakerNote Tag 0x4015: [16, 33, 202, 1, 0, 0, 0, 0, 0, 0, 0, 0, 66, 0, 0, 0, 100, 0, 0, 0, ... ]  [16, 33, 202, 1, 0, 0, 0, 0, 0, 0, 0, 0, 67, 0, 0, 0, 100, 0, 0, 0, ... ]\n"
     ]
    }
   ],
   "source": [
    "for row in tags3.keys():\n",
    "    if str(tags3[row]) == str(tags5[row]):\n",
    "        continue\n",
    "    if row in ['JPEGThumbnail']:\n",
    "        continue\n",
    "        \n",
    "    print(f'{row}: {tags3[row]}  {tags5[row]}')"
   ]
  },
  {
   "cell_type": "code",
   "execution_count": 19,
   "id": "liquid-nashville",
   "metadata": {},
   "outputs": [
    {
     "name": "stdout",
     "output_type": "stream",
     "text": [
      "zero EXIF ExposureBiasValue\n",
      "zero MakerNote Tag 0x00D0\n",
      "zero MakerNote SelfTimer\n",
      "zero MakerNote Unknown\n",
      "zero MakerNote SequenceNumber\n",
      "zero MakerNote AFPointUsed\n",
      "zero MakerNote SubjectDistance\n",
      "zero MakerNote FileNumber\n",
      "zero MakerNote BracketValue\n",
      "zero MakerNote BracketShotNumber\n",
      "zero MakerNote WBBracketValueAB\n",
      "zero MakerNote WBBracketValueGM\n"
     ]
    }
   ],
   "source": [
    "for row in tags3.keys():\n",
    "    if str(tags3[row]) == \"0\":\n",
    "        print(f'zero {row}')\n",
    "        continue\n",
    "    if row in ['JPEGThumbnail', 'EXIF UserComment', 'EXIF MakerNote']:\n",
    "        continue\n",
    "#     print(f'{row}: {type(tags3[row])}')\n",
    "#     print(f'{row}: \"{tags3[row]}\"\\t\"{tags5[row]}\"')"
   ]
  },
  {
   "cell_type": "code",
   "execution_count": 53,
   "id": "precious-decision",
   "metadata": {},
   "outputs": [
    {
     "name": "stdout",
     "output_type": "stream",
     "text": [
      "{}\n"
     ]
    }
   ],
   "source": [
    "from libxmp.utils import file_to_dict\n",
    "from libxmp import XMPFiles\n",
    "star3xmp = testdata / \"7D2_1974.xmp\"\n",
    "star5xmp = testdata / \"7D2_1977.xmp\"\n",
    "\n",
    "xmp = file_to_dict(str(star3xmp))\n",
    "print(xmp)"
   ]
  }
 ],
 "metadata": {
  "kernelspec": {
   "display_name": ".venv",
   "language": "python",
   "name": ".venv"
  },
  "language_info": {
   "codemirror_mode": {
    "name": "ipython",
    "version": 3
   },
   "file_extension": ".py",
   "mimetype": "text/x-python",
   "name": "python",
   "nbconvert_exporter": "python",
   "pygments_lexer": "ipython3",
   "version": "3.8.7"
  }
 },
 "nbformat": 4,
 "nbformat_minor": 5
}
