{
 "cells": [
  {
   "cell_type": "code",
   "execution_count": 1,
   "id": "arranged-joseph",
   "metadata": {},
   "outputs": [],
   "source": [
    "import exifread\n",
    "import pathlib\n",
    "import ipywidgets as widgets\n",
    "\n",
    "testdata = pathlib.Path() / \"tests/testdata\"\n",
    "star3 = testdata / \"7D2_1974.CR2\"\n",
    "star5 = testdata / \"7D2_1976.CR2\"\n"
   ]
  },
  {
   "cell_type": "code",
   "execution_count": 7,
   "id": "photographic-archives",
   "metadata": {},
   "outputs": [
    {
     "name": "stdout",
     "output_type": "stream",
     "text": [
      "[PosixPath('tests/testdata/.DS_Store'), PosixPath('tests/testdata/R5A_4554.CR3'), PosixPath('tests/testdata/R5A_4553.JPG'), PosixPath('tests/testdata/R5A_4552.JPG'), PosixPath('tests/testdata/R5A_4555.CR3'), PosixPath('tests/testdata/R5A_4557.CR3'), PosixPath('tests/testdata/R5A_4556.CR3'), PosixPath('tests/testdata/R5A_4552.CR3'), PosixPath('tests/testdata/R5A_4555.JPG'), PosixPath('tests/testdata/R5A_4554.JPG'), PosixPath('tests/testdata/R5A_4553.CR3'), PosixPath('tests/testdata/exiftool_R5A_4554_jpg.txt'), PosixPath('tests/testdata/R5A_4558.CR3'), PosixPath('tests/testdata/R5A_4559.CR3'), PosixPath('tests/testdata/7D2_1976.CR2'), PosixPath('tests/testdata/exiftool_7D2_1977.txt'), PosixPath('tests/testdata/exiftool_7D2_1974_jpg.txt'), PosixPath('tests/testdata/7D2_1977.CR2'), PosixPath('tests/testdata/7D2_1975.CR2'), PosixPath('tests/testdata/exiftool_7D2_1974.txt'), PosixPath('tests/testdata/7D2_1974.CR2'), PosixPath('tests/testdata/7D2_1975.xmp'), PosixPath('tests/testdata/7D2_1974.xmp'), PosixPath('tests/testdata/7D2_1976.xmp'), PosixPath('tests/testdata/.BridgeSort'), PosixPath('tests/testdata/7D2_1977.xmp')]\n"
     ]
    }
   ],
   "source": [
    "print([x for x in testdata.iterdir() if x.is_file()])"
   ]
  },
  {
   "cell_type": "code",
   "execution_count": 8,
   "id": "processed-score",
   "metadata": {},
   "outputs": [],
   "source": [
    "# Only works with cr2 files :(\n",
    "with open(star3, 'rb') as f:\n",
    "    tags3 = exifread.process_file(f)\n",
    "    \n",
    "with open(star5, 'rb') as f:\n",
    "    tags5 = exifread.process_file(f)\n",
    "    \n",
    "# display([f'{key:value}' for key, value in tags3.items()])"
   ]
  },
  {
   "cell_type": "code",
   "execution_count": 9,
   "id": "sacred-values",
   "metadata": {},
   "outputs": [
    {
     "name": "stdout",
     "output_type": "stream",
     "text": [
      "Image StripOffsets: 45792  45784\n",
      "Image StripByteCounts: 1137686  1086281\n",
      "Image DateTime: 2021:01:30 16:25:01  2021:01:30 16:25:06\n",
      "Thumbnail JPEGInterchangeFormatLength: 8260  8251\n",
      "IFD 2 StripOffsets: 1183480  1132068\n",
      "IFD 3 StripOffsets: 2043736  1992324\n",
      "IFD 3 StripByteCounts: 20204068  19666341\n",
      "EXIF ISOSpeedRatings: 200  160\n",
      "EXIF RecommendedExposureIndex: 200  160\n",
      "EXIF DateTimeOriginal: 2021:01:30 16:25:01  2021:01:30 16:25:06\n",
      "EXIF DateTimeDigitized: 2021:01:30 16:25:01  2021:01:30 16:25:06\n",
      "EXIF SubSecTime: 89  48\n",
      "EXIF SubSecTimeOriginal: 89  48\n",
      "EXIF SubSecTimeDigitized: 89  48\n",
      "MakerNote Tag 0x00AA: [12, 565, 1024, 1024, 519, 0]  [12, 568, 1024, 1024, 521, 0]\n",
      "MakerNote Tag 0x4015: [16, 33, 202, 1, 0, 0, 0, 0, 0, 0, 0, 0, 66, 0, 0, 0, 100, 0, 0, 0, ... ]  [16, 33, 202, 1, 0, 0, 0, 0, 0, 0, 0, 0, 67, 0, 0, 0, 100, 0, 0, 0, ... ]\n"
     ]
    }
   ],
   "source": [
    "for row in tags3.keys():\n",
    "    if str(tags3[row]) == str(tags5[row]):\n",
    "        continue\n",
    "    if row in ['JPEGThumbnail']:\n",
    "        continue\n",
    "        \n",
    "    print(f'{row}: {tags3[row]}  {tags5[row]}')"
   ]
  },
  {
   "cell_type": "code",
   "execution_count": 10,
   "id": "shared-optics",
   "metadata": {},
   "outputs": [
    {
     "name": "stdout",
     "output_type": "stream",
     "text": [
      "zero EXIF ExposureBiasValue\n",
      "zero MakerNote Tag 0x00D0\n",
      "zero MakerNote SelfTimer\n",
      "zero MakerNote Unknown\n",
      "zero MakerNote SequenceNumber\n",
      "zero MakerNote AFPointUsed\n",
      "zero MakerNote SubjectDistance\n",
      "zero MakerNote FileNumber\n",
      "zero MakerNote BracketValue\n",
      "zero MakerNote BracketShotNumber\n",
      "zero MakerNote WBBracketValueAB\n",
      "zero MakerNote WBBracketValueGM\n"
     ]
    }
   ],
   "source": [
    "for row in tags3.keys():\n",
    "    if str(tags3[row]) == \"0\":\n",
    "        print(f'zero {row}')\n",
    "        continue\n",
    "    if row in ['JPEGThumbnail', 'EXIF UserComment', 'EXIF MakerNote']:\n",
    "        continue\n",
    "#     print(f'{row}: {type(tags3[row])}')\n",
    "#     print(f'{row}: \"{tags3[row]}\"\\t\"{tags5[row]}\"')"
   ]
  },
  {
   "cell_type": "code",
   "execution_count": 11,
   "id": "stunning-possession",
   "metadata": {},
   "outputs": [
    {
     "name": "stdout",
     "output_type": "stream",
     "text": [
      "{}\n",
      "None\n"
     ]
    }
   ],
   "source": [
    "from libxmp.utils import file_to_dict\n",
    "from libxmp import XMPFiles, XMPMeta, consts\n",
    "star3xmp = testdata / \"7D2_1974.xmp\"\n",
    "star5xmp = testdata / \"7D2_1977.xmp\"\n",
    "\n",
    "xmp = file_to_dict(str(star3xmp))\n",
    "print(xmp)\n",
    "\n",
    "xmpf = XMPFiles(file_path=str(star3xmp))\n",
    "xmp2 = xmpf.get_xmp()\n",
    "print(xmp2)"
   ]
  },
  {
   "cell_type": "code",
   "execution_count": 44,
   "id": "sophisticated-ready",
   "metadata": {},
   "outputs": [
    {
     "name": "stdout",
     "output_type": "stream",
     "text": [
      "XMP:rating 3\n",
      "http://ns.adobe.com/xap/1.0/\n",
      "{'': '', 'xmp:Rating': '3', 'xmp:ModifyDate': '2021-01-30T16:25:01.89', 'xmp:CreateDate': '2021-01-30T16:25:01.89', 'xmp:MetadataDate': '2021-01-30T15:47-08:00'}\n"
     ]
    }
   ],
   "source": [
    "from collections import namedtuple\n",
    "\n",
    "xmp_keydata = namedtuple(\n",
    "    \"XMPKeyData\",\n",
    "    [\"xmp_const\", \"key\", \"value\", \"metadata\"]\n",
    ")\n",
    "with open(star3xmp, 'r') as f:\n",
    "#     print(f.read())\n",
    "    buf = f.read()\n",
    "    \n",
    "xmp = XMPMeta()\n",
    "xmp.parse_from_str(buf)\n",
    "\n",
    "# print(xmp)\n",
    "# print(\"Exif:GPSLatitude = {}\".format(xmp.get_property(consts.XMP_NS_EXIF, 'GPSLatitude')))\n",
    "print(f'XMP:rating {xmp.get_property(consts.XMP_NS_XMP, \"Rating\")}')\n",
    "print(f'{consts.XMP_NS_XMP}')\n",
    "parse = [xmp_keydata(*x) for x in xmp if x[0] == consts.XMP_NS_XMP]\n",
    "\n",
    "print({x.key: x.value for x in parse})\n",
    "derp = {}\n",
    "# for row in parse:\n",
    "#     print(row)\n",
    "#     print('====')\n",
    "#     derp[row.key] = row.value\n",
    "    \n",
    "# print(derp)\n",
    "\n",
    "    "
   ]
  },
  {
   "cell_type": "code",
   "execution_count": 18,
   "id": "announced-turner",
   "metadata": {},
   "outputs": [
    {
     "name": "stdout",
     "output_type": "stream",
     "text": [
      "tests/testdata/.DS_Store .DS_Store \n",
      "tests/testdata/R5A_4554.CR3 R5A_4554 .CR3\n",
      "tests/testdata/R5A_4553.JPG R5A_4553 .JPG\n",
      "tests/testdata/R5A_4552.JPG R5A_4552 .JPG\n",
      "tests/testdata/R5A_4555.CR3 R5A_4555 .CR3\n",
      "tests/testdata/R5A_4557.CR3 R5A_4557 .CR3\n",
      "tests/testdata/R5A_4556.CR3 R5A_4556 .CR3\n",
      "tests/testdata/R5A_4552.CR3 R5A_4552 .CR3\n",
      "tests/testdata/R5A_4555.JPG R5A_4555 .JPG\n",
      "tests/testdata/R5A_4554.JPG R5A_4554 .JPG\n",
      "tests/testdata/R5A_4553.CR3 R5A_4553 .CR3\n",
      "tests/testdata/exiftool_R5A_4554_jpg.txt exiftool_R5A_4554_jpg .txt\n",
      "tests/testdata/R5A_4558.CR3 R5A_4558 .CR3\n",
      "tests/testdata/R5A_4559.CR3 R5A_4559 .CR3\n",
      "tests/testdata/7D2_1976.CR2 7D2_1976 .CR2\n",
      "tests/testdata/exiftool_7D2_1977.txt exiftool_7D2_1977 .txt\n",
      "tests/testdata/exiftool_7D2_1974_jpg.txt exiftool_7D2_1974_jpg .txt\n",
      "tests/testdata/7D2_1977.CR2 7D2_1977 .CR2\n",
      "tests/testdata/7D2_1975.CR2 7D2_1975 .CR2\n",
      "tests/testdata/exiftool_7D2_1974.txt exiftool_7D2_1974 .txt\n",
      "tests/testdata/BACKUP BACKUP \n",
      "tests/testdata/7D2_1974.CR2 7D2_1974 .CR2\n",
      "tests/testdata/7D2_1975.xmp 7D2_1975 .xmp\n",
      "tests/testdata/7D2_1974.xmp 7D2_1974 .xmp\n",
      "tests/testdata/7D2_1976.xmp 7D2_1976 .xmp\n",
      "tests/testdata/.BridgeSort .BridgeSort \n",
      "tests/testdata/7D2_1977.xmp 7D2_1977 .xmp\n"
     ]
    }
   ],
   "source": [
    "for file in testdata.iterdir():\n",
    "    print(f'{file} {file.stem} {file.suffix}')"
   ]
  },
  {
   "cell_type": "code",
   "execution_count": 17,
   "id": "widespread-capitol",
   "metadata": {},
   "outputs": [
    {
     "name": "stdout",
     "output_type": "stream",
     "text": [
      "{'ExifTool Version Number': '12.16', 'File Name': '7D2_1974.CR2', 'Directory': 'tests/testdata', 'File Size': '21 MiB', 'File Modification Date/Time': '2021:01:30 16:25:02-08:00', 'File Access Date/Time': '2021:02:27 11:16:39-08:00', 'File Inode Change Date/Time': '2021:01:30 15:47:00-08:00', 'File Permissions': 'rwxrwxrwx', 'File Type': 'CR2', 'File Type Extension': 'cr2', 'MIME Type': 'image/x-canon-cr2', 'Exif Byte Order': 'Little-endian (Intel, II)', 'Image Width': '5472', 'Image Height': '3648', 'Bits Per Sample': '8 8 8', 'Compression': 'JPEG (old-style)', 'Make': 'Canon', 'Camera Model Name': 'Canon EOS 7D Mark II', 'Preview Image Start': '45792', 'Orientation': 'Rotate 270 CW', 'Preview Image Length': '1137686', 'X Resolution': '72', 'Y Resolution': '72', 'Resolution Unit': 'inches', 'Modify Date': '2021:01:30 16:25:01.89', 'Artist': 'John Purcell @ADrowsyUnicorn', 'Rating': '0', 'Copyright': 'John Purcell @ADrowsyUnicorn', 'Exposure Time': '1/100', 'F Number': '1.2', 'Exposure Program': 'Manual', 'ISO': '200', 'Sensitivity Type': 'Recommended Exposure Index', 'Recommended Exposure Index': '200', 'Exif Version': '0230', 'Date/Time Original': '2021:01:30 16:25:01.89', 'Create Date': '2021:01:30 16:25:01.89', 'Components Configuration': 'Y, Cb, Cr, -', 'Shutter Speed Value': '1/99', 'Aperture Value': '1.2', 'Flash': 'Off, Did not fire', 'Focal Length': '50.0 mm (35 mm equivalent: 78.8 mm)', 'Macro Mode': 'Normal', 'Self Timer': 'Off', 'Quality': 'RAW', 'Canon Flash Mode': 'Off', 'Continuous Drive': 'Continuous, Silent', 'Focus Mode': 'One-shot AF', 'Record Mode': 'CR2', 'Canon Image Size': 'n/a', 'Easy Mode': 'Manual', 'Digital Zoom': 'None', 'Contrast': 'Normal', 'Saturation': 'Normal', 'Camera ISO': 'Auto', 'Metering Mode': 'Spot', 'Focus Range': 'Not Known', 'Canon Exposure Mode': 'Manual', 'Lens Type': 'Canon EF 50mm f/1.2L USM', 'Max Focal Length': '50 mm', 'Min Focal Length': '50 mm', 'Focal Units': '1/mm', 'Max Aperture': '1.3', 'Min Aperture': '16', 'Flash Activity': '0', 'Flash Bits': '(none)', 'Zoom Source Width': '0', 'Zoom Target Width': '0', 'Manual Flash Output': 'n/a', 'Color Tone': 'Normal', 'SRAW Quality': 'n/a', 'Auto ISO': '100', 'Base ISO': '200', 'Measured EV': '6.12', 'Target Aperture': '1.3', 'Target Exposure Time': '1/102', 'Exposure Compensation': '0', 'White Balance': 'Auto', 'Slow Shutter': 'None', 'Shot Number In Continuous Burst': '0', 'Optical Zoom Code': 'n/a', 'Camera Temperature': '19 C', 'Flash Guide Number': '0', 'Flash Exposure Compensation': '0', 'Auto Exposure Bracketing': 'Off', 'AEB Bracket Value': '0', 'Control Mode': 'Camera Local Control', 'Measured EV 2': '5.625', 'Bulb Duration': '0', 'Camera Type': 'EOS High-end', 'ND Filter': 'n/a', 'Canon Image Type': 'Canon EOS 7D Mark II', 'Canon Firmware Version': 'Firmware Version 1.1.2', 'Canon Model ID': 'EOS 7D Mark II', 'Thumbnail Image Valid Area': '0 159 7 112', 'AF Area Mode': 'Spot AF', 'Num AF Points': '65', 'Valid AF Points': '65', 'Canon Image Width': '5472', 'Canon Image Height': '3648', 'AF Image Width': '5472', 'AF Image Height': '3648', 'AF Area Widths': '243 243 243 243 243 243 243 243 243 243 243 243 243 243 243 243 243 243 243 243 243 243 243 243 243 243 243 243 243 243 243 243 243 243 243 243 243 243 243 243 243 243 243 243 243 243 243 243 243 243 243 243 243 243 243 243 243 243 243 243 243 243 243 243 243', 'AF Area Heights': '243 243 243 243 243 243 243 243 243 243 243 243 243 243 243 243 243 243 243 243 243 243 243 243 243 243 243 243 243 243 243 243 243 243 243 243 243 243 243 243 243 243 243 243 243 243 243 243 243 243 243 243 243 243 243 243 243 243 243 243 243 243 243 243 243', 'AF Area X Positions': '279 0 -279 -559 -1093 -1397 -1700 -2004 -1397 -1700 -2004 2004 1700 1397 1093 559 1397 1093 559 279 0 -279 -559 -1093 -279 -559 -1093 -1397 -1700 -2004 2004 1700 -2004 2004 1700 1397 1093 559 279 0 559 279 0 -279 -559 -1093 -1397 -1700 -1093 -1397 -1700 -2004 2004 1700 1397 1093 1700 1397 1093 559 279 0 -279 -559 2004', 'AF Area Y Positions': '776 776 776 776 631 631 631 631 315 315 315 631 631 631 631 776 315 315 388 388 388 388 388 315 0 0 0 0 0 0 315 315 -315 0 0 0 0 0 0 0 -388 -388 -388 -388 -388 -315 -315 -315 -631 -631 -631 -631 -315 -315 -315 -315 -631 -631 -631 -776 -776 -776 -776 -776 -631', 'AF Points In Focus': '2', 'AF Points Selected': '2', 'Time Zone': '-07:00', 'Time Zone City': 'Los Angeles', 'Daylight Savings': 'On', 'Battery Type': 'LP-E6N', 'Bracket Mode': 'Off', 'Bracket Value': '0', 'Bracket Shot Number': '0', 'Raw Jpg Size': 'Large', 'WB Bracket Mode': 'Off', 'WB Bracket Value AB': '0', 'WB Bracket Value GM': '0', 'Live View Shooting': 'Off', 'Focus Distance Upper': '0.62 m', 'Focus Distance Lower': '0.59 m', 'Flash Exposure Lock': 'Off', 'Internal Serial Number': 'LA0211121', 'Dust Removal Data': '(Binary data 1024 bytes, use -b option to extract)', 'Crop Left Margin': '0', 'Crop Right Margin': '0', 'Crop Top Margin': '0', 'Crop Bottom Margin': '0', 'Exposure Level Increments': '1/3 Stop', 'ISO Speed Increments': '1 Stop', 'AEB Auto Cancel': 'On', 'AEB Sequence': '0,-,+', 'AEB Shot Count': '3 shots', 'Safety Shift': 'Disable', 'Same Exposure For New Aperture': 'Disable', 'Shutter Speed Range': 'Disable; Hi 1/8192; Lo 32', 'Aperture Range': 'Disable; Closed 91; Open 1', 'Focusing Screen': 'Eh-A', 'LV Shooting Area Display': 'Outlined', 'Viewfinder Warnings': 'Monochrome, WB corrected, One-touch image quality, Noise reduction', 'Continuous Shooting Speed': 'Enable; Hi 10; Lo 6; 4', 'Custom Controls': '0 0 0 0 0 2 0 0 0 0 0 0 0 0 0 0 0 0 0 1 0 1 0 0 0 0 0 0 0 0 254 255 0 3 112 48 0 0 0 0 0 0 0 0 0 0 0 20 80 0 0 0 7 3 0 255 255 255 0 255 255 255', 'Dial Direction Tv Av': 'Normal', 'Multi Function Lock': 'Off; Quick control dial', 'Add Aspect Ratio Info': 'Off', 'Default Erase Option': 'Cancel selected', 'Aspect Ratio': '3:2', 'Cropped Image Width': '5472', 'Cropped Image Height': '3648', 'Cropped Image Left': '0', 'Cropped Image Top': '0', 'Tone Curve': 'Standard', 'Sharpness': '3', 'Sharpness Frequency': 'n/a', 'Sensor Red Level': '0', 'Sensor Blue Level': '0', 'White Balance Red': '0', 'White Balance Blue': '0', 'Color Temperature': '5000', 'Picture Style': 'Auto', 'Digital Gain': '0', 'WB Shift AB': '0', 'WB Shift GM': '0', 'Measured RGGB': '565 1024 1024 519', 'VRD Offset': '0', 'Sensor Width': '5568', 'Sensor Height': '3708', 'Sensor Left Border': '84', 'Sensor Top Border': '50', 'Sensor Right Border': '5555', 'Sensor Bottom Border': '3697', 'Black Mask Left Border': '0', 'Black Mask Top Border': '0', 'Black Mask Right Border': '0', 'Black Mask Bottom Border': '0', 'Color Data Version': '11 (7DmkII/750D/760D)', 'WB RGGB Levels As Shot': '1900 1024 1024 2052', 'Color Temp As Shot': '4253', 'WB RGGB Levels Auto': '1900 1024 1024 2052', 'Color Temp Auto': '4253', 'WB RGGB Levels Measured': '1900 1024 1024 2052', 'Color Temp Measured': '4253', 'WB RGGB Levels Daylight': '2001 1024 1024 1662', 'Color Temp Daylight': '5200', 'WB RGGB Levels Shade': '2305 1024 1024 1427', 'Color Temp Shade': '7000', 'WB RGGB Levels Cloudy': '2153 1024 1024 1540', 'Color Temp Cloudy': '6000', 'WB RGGB Levels Tungsten': '1413 1024 1024 2394', 'Color Temp Tungsten': '3200', 'WB RGGB Levels Fluorescent': '1753 1024 1024 2300', 'Color Temp Fluorescent': '3736', 'WB RGGB Levels Kelvin': '1956 1024 1024 1708', 'Color Temp Kelvin': '4999', 'WB RGGB Levels Flash': '2217 1024 1024 1509', 'Color Temp Flash': '6314', 'Average Black Level': '2047 2047 2047 2047', 'Raw Measured RGGB': '210628 391787 392467 196447', 'Per Channel Black Level': '2047 2047 2047 2047', 'Normal White Level': '16383', 'Specular White Level': '16383', 'Linearity Upper Margin': '13899', 'Picture Style User Def': 'Standard; Standard; Standard', 'Picture Style PC': 'None; None; None', 'AF Micro Adj Mode': 'Disable', 'AF Micro Adj Value': '0', 'Vignetting Corr Version': '16', 'Peripheral Lighting Setting': 'Off', 'Chromatic Aberration Setting': 'Off', 'Distortion Correction Setting': 'Off', 'Peripheral Illumination Corr': 'Off', 'Auto Lighting Optimizer': 'Off', 'Highlight Tone Priority': 'Off', 'Long Exposure Noise Reduction': 'Off', 'High ISO Noise Reduction': 'Standard', 'Multi Exposure': 'Off', 'Multi Exposure Control': 'Additive', 'Multi Exposure Shots': '0', 'HDR': 'Off', 'HDR Effect': 'Natural', 'AF Config Tool': 'Case 4', 'AF Tracking Sensitivity': '0', 'AF Accel/Decel Tracking': '1', 'AF Point Switching': '0', 'AI Servo First Image': 'Focus Priority', 'AI Servo Second Image': 'Focus Priority', 'USM Lens Electronic MF': 'Enable After AF', 'AF Assist Beam': 'Enable', 'One Shot AF Release': 'Focus Priority', 'Auto AF Point Sel EOS iTR AF': 'Enable', 'Lens Drive When AF Impossible': 'Continue Focus Search', 'Select AF Area Selection Mode': 'Single-point AF, Auto, Zone AF, AF Point Expansion (4 point), Spot AF, AF Point Expansion (8 point)', 'AF Area Selection Method': 'M-Fn Button', 'Orientation Linked AF': 'Same for Vert/Horiz Points', 'Manual AF Point Sel Pattern': 'Stops at AF Area Edges', 'AF Point Display During Focus': 'Selected (constant)', 'VF Display Illumination': 'Auto', 'Sub Sec Time': '89', 'Sub Sec Time Original': '89', 'Sub Sec Time Digitized': '89', 'Flashpix Version': '0100', 'Color Space': 'sRGB', 'Exif Image Width': '5472', 'Exif Image Height': '3648', 'Interoperability Index': 'R98 - DCF basic file (sRGB)', 'Interoperability Version': '0100', 'Focal Plane X Resolution': '6086.76307', 'Focal Plane Y Resolution': '6090.15025', 'Focal Plane Resolution Unit': 'inches', 'Custom Rendered': 'Normal', 'Exposure Mode': 'Manual', 'Scene Capture Type': 'Standard', 'Owner Name': 'John Purcell', 'Serial Number': '065021000004', 'Lens Info': '50mm f/0', 'Lens Model': 'EF50mm f/1.2L USM', 'Lens Serial Number': '000040b7fc', 'GPS Version ID': '2.3.0.0', 'Thumbnail Offset': '37532', 'Thumbnail Length': '8260', 'Photometric Interpretation': 'RGB', 'Samples Per Pixel': '3', 'Rows Per Strip': '309', 'Planar Configuration': 'Chunky', 'Strip Offsets': '2043736', 'Strip Byte Counts': '20204068', 'CR2 CFA Pattern': '[Red,Green][Green,Blue]', 'Raw Image Segmentation': '1 2784 2784', 'SRaw Type': '1', 'Drive Mode': 'Continuous Shooting', 'Lens': '50.0 mm (35 mm equivalent: 78.8 mm)', 'Shooting Mode': 'Manual', 'WB RGGB Levels': '1900 1024 1024 2052', 'Aperture': '1.2', 'Blue Balance': '2.003906', 'Image Size': '5472x3648', 'Lens ID': 'Canon EF 50mm f/1.2L USM', 'Megapixels': '20.0', 'Preview Image': '(Binary data 1137686 bytes, use -b option to extract)', 'Red Balance': '1.855469', 'Scale Factor To 35 mm Equivalent': '1.6', 'Shutter Speed': '1/100', 'Thumbnail Image': '(Binary data 8260 bytes, use -b option to extract)', 'Circle Of Confusion': '0.019 mm', 'Depth Of Field': '0.006 m (0.602 - 0.608 m)', 'Field Of View': '25.7 deg', 'Hyperfocal Distance': '109.33 m', 'Light Value': '6.2'}\n"
     ]
    }
   ],
   "source": [
    "from plumbum import local\n",
    "from parse import *\n",
    "\n",
    "exif = local['exiftool']\n",
    "\n",
    "result = exif(star3)\n",
    "# for row in result.splitlines():\n",
    "# #     print(row)\n",
    "#     x = parse(r'{key}: {value}', row)\n",
    "#     print(f'`{x[\"key\"].strip()}`')\n",
    "#     break\n",
    "p = [parse(r'{key}: {value}', x) for x in result.splitlines()]\n",
    "d = {}\n",
    "d = {x[\"key\"].strip():x[\"value\"] for x in p if x}\n",
    "# for row in p:\n",
    "#     print(row)\n",
    "#     d[row[\"key\"].strip()] = row[\"value\"]\n",
    "    \n",
    "print(d)"
   ]
  },
  {
   "cell_type": "code",
   "execution_count": null,
   "id": "threatened-myrtle",
   "metadata": {},
   "outputs": [],
   "source": []
  }
 ],
 "metadata": {
  "kernelspec": {
   "display_name": ".venv",
   "language": "python",
   "name": ".venv"
  },
  "language_info": {
   "codemirror_mode": {
    "name": "ipython",
    "version": 3
   },
   "file_extension": ".py",
   "mimetype": "text/x-python",
   "name": "python",
   "nbconvert_exporter": "python",
   "pygments_lexer": "ipython3",
   "version": "3.8.7"
  }
 },
 "nbformat": 4,
 "nbformat_minor": 5
}
