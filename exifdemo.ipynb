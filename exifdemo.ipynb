{
 "cells": [
  {
   "cell_type": "code",
   "execution_count": 35,
   "id": "prospective-anger",
   "metadata": {},
   "outputs": [],
   "source": [
    "import exifread\n",
    "import \n",
    "import pathlib\n",
    "import ipywidgets as widgets\n",
    "\n",
    "testdata = pathlib.Path() / \"tests/testdata\"\n",
    "star3 = testdata / \"R5A_4516.CR3\"\n",
    "star5 = testdata / \"R5A_4514.CR3\"\n"
   ]
  },
  {
   "cell_type": "code",
   "execution_count": 27,
   "id": "unavailable-liability",
   "metadata": {},
   "outputs": [
    {
     "name": "stdout",
     "output_type": "stream",
     "text": [
      "[PosixPath('tests/testdata/.DS_Store'), PosixPath('tests/testdata/R5A_4516.CR3'), PosixPath('tests/testdata/R5A_4515.CR3'), PosixPath('tests/testdata/R5A_4512.JPG'), PosixPath('tests/testdata/R5A_4513.JPG'), PosixPath('tests/testdata/R5A_4514.CR3'), PosixPath('tests/testdata/R5A_4516.JPG'), PosixPath('tests/testdata/R5A_4513.CR3'), PosixPath('tests/testdata/R5A_4514.JPG'), PosixPath('tests/testdata/R5A_4515.JPG'), PosixPath('tests/testdata/R5A_4512.CR3'), PosixPath('tests/testdata/.BridgeSort')]\n"
     ]
    }
   ],
   "source": [
    "print([x for x in testdata.iterdir() if x.is_file()])"
   ]
  },
  {
   "cell_type": "code",
   "execution_count": 36,
   "id": "stainless-highlight",
   "metadata": {},
   "outputs": [
    {
     "data": {
      "text/plain": [
       "[]"
      ]
     },
     "metadata": {},
     "output_type": "display_data"
    }
   ],
   "source": [
    "# Only works with cr2 files :(\n",
    "with open(star3, 'rb') as f:\n",
    "    tags3 = exifread.process_file(f)\n",
    "    \n",
    "with open(star5, 'rb') as f:\n",
    "    tags5 = exifread.process_file(f)\n",
    "    \n",
    "display([f'{key:value}' for key, value in tags3.items()])"
   ]
  },
  {
   "cell_type": "code",
   "execution_count": 33,
   "id": "excellent-gregory",
   "metadata": {},
   "outputs": [],
   "source": [
    "for row in tags3.keys():\n",
    "#     if str(tags3[row]) == str(tags5[row]):\n",
    "#         continue\n",
    "#     if row in ['JPEGThumbnail']:\n",
    "#         continue\n",
    "        \n",
    "    print(f'{row}: {tags3[row]}  {tags5[row]}')"
   ]
  },
  {
   "cell_type": "code",
   "execution_count": 19,
   "id": "sufficient-quick",
   "metadata": {},
   "outputs": [
    {
     "name": "stdout",
     "output_type": "stream",
     "text": [
      "zero EXIF ExposureBiasValue\n",
      "zero MakerNote Tag 0x00D0\n",
      "zero MakerNote SelfTimer\n",
      "zero MakerNote Unknown\n",
      "zero MakerNote SequenceNumber\n",
      "zero MakerNote AFPointUsed\n",
      "zero MakerNote SubjectDistance\n",
      "zero MakerNote FileNumber\n",
      "zero MakerNote BracketValue\n",
      "zero MakerNote BracketShotNumber\n",
      "zero MakerNote WBBracketValueAB\n",
      "zero MakerNote WBBracketValueGM\n"
     ]
    }
   ],
   "source": [
    "for row in tags3.keys():\n",
    "    if str(tags3[row]) == \"0\":\n",
    "        print(f'zero {row}')\n",
    "        continue\n",
    "    if row in ['JPEGThumbnail', 'EXIF UserComment', 'EXIF MakerNote']:\n",
    "        continue\n",
    "#     print(f'{row}: {type(tags3[row])}')\n",
    "#     print(f'{row}: \"{tags3[row]}\"\\t\"{tags5[row]}\"')"
   ]
  }
 ],
 "metadata": {
  "kernelspec": {
   "display_name": ".venv",
   "language": "python",
   "name": ".venv"
  },
  "language_info": {
   "codemirror_mode": {
    "name": "ipython",
    "version": 3
   },
   "file_extension": ".py",
   "mimetype": "text/x-python",
   "name": "python",
   "nbconvert_exporter": "python",
   "pygments_lexer": "ipython3",
   "version": "3.8.7"
  }
 },
 "nbformat": 4,
 "nbformat_minor": 5
}
