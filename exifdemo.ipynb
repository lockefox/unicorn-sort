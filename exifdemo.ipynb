{
 "cells": [
  {
   "cell_type": "code",
   "execution_count": 6,
   "id": "arranged-joseph",
   "metadata": {},
   "outputs": [],
   "source": [
    "import exifread\n",
    "import pathlib\n",
    "import ipywidgets as widgets\n",
    "\n",
    "testdata = pathlib.Path() / \"tests/testdata\"\n",
    "star3 = testdata / \"7D2_1974.CR2\"\n",
    "star5 = testdata / \"7D2_1976.CR2\"\n"
   ]
  },
  {
   "cell_type": "code",
   "execution_count": 7,
   "id": "photographic-archives",
   "metadata": {},
   "outputs": [
    {
     "name": "stdout",
     "output_type": "stream",
     "text": [
      "[PosixPath('tests/testdata/.DS_Store'), PosixPath('tests/testdata/R5A_4554.CR3'), PosixPath('tests/testdata/R5A_4553.JPG'), PosixPath('tests/testdata/R5A_4552.JPG'), PosixPath('tests/testdata/R5A_4555.CR3'), PosixPath('tests/testdata/R5A_4557.CR3'), PosixPath('tests/testdata/R5A_4556.CR3'), PosixPath('tests/testdata/R5A_4552.CR3'), PosixPath('tests/testdata/R5A_4555.JPG'), PosixPath('tests/testdata/R5A_4554.JPG'), PosixPath('tests/testdata/R5A_4553.CR3'), PosixPath('tests/testdata/exiftool_R5A_4554_jpg.txt'), PosixPath('tests/testdata/R5A_4558.CR3'), PosixPath('tests/testdata/R5A_4559.CR3'), PosixPath('tests/testdata/7D2_1976.CR2'), PosixPath('tests/testdata/exiftool_7D2_1977.txt'), PosixPath('tests/testdata/exiftool_7D2_1974_jpg.txt'), PosixPath('tests/testdata/7D2_1977.CR2'), PosixPath('tests/testdata/7D2_1975.CR2'), PosixPath('tests/testdata/exiftool_7D2_1974.txt'), PosixPath('tests/testdata/7D2_1974.CR2'), PosixPath('tests/testdata/7D2_1975.xmp'), PosixPath('tests/testdata/7D2_1974.xmp'), PosixPath('tests/testdata/7D2_1976.xmp'), PosixPath('tests/testdata/.BridgeSort'), PosixPath('tests/testdata/7D2_1977.xmp')]\n"
     ]
    }
   ],
   "source": [
    "print([x for x in testdata.iterdir() if x.is_file()])"
   ]
  },
  {
   "cell_type": "code",
   "execution_count": 8,
   "id": "processed-score",
   "metadata": {},
   "outputs": [],
   "source": [
    "# Only works with cr2 files :(\n",
    "with open(star3, 'rb') as f:\n",
    "    tags3 = exifread.process_file(f)\n",
    "    \n",
    "with open(star5, 'rb') as f:\n",
    "    tags5 = exifread.process_file(f)\n",
    "    \n",
    "# display([f'{key:value}' for key, value in tags3.items()])"
   ]
  },
  {
   "cell_type": "code",
   "execution_count": 9,
   "id": "sacred-values",
   "metadata": {},
   "outputs": [
    {
     "name": "stdout",
     "output_type": "stream",
     "text": [
      "Image StripOffsets: 45792  45784\n",
      "Image StripByteCounts: 1137686  1086281\n",
      "Image DateTime: 2021:01:30 16:25:01  2021:01:30 16:25:06\n",
      "Thumbnail JPEGInterchangeFormatLength: 8260  8251\n",
      "IFD 2 StripOffsets: 1183480  1132068\n",
      "IFD 3 StripOffsets: 2043736  1992324\n",
      "IFD 3 StripByteCounts: 20204068  19666341\n",
      "EXIF ISOSpeedRatings: 200  160\n",
      "EXIF RecommendedExposureIndex: 200  160\n",
      "EXIF DateTimeOriginal: 2021:01:30 16:25:01  2021:01:30 16:25:06\n",
      "EXIF DateTimeDigitized: 2021:01:30 16:25:01  2021:01:30 16:25:06\n",
      "EXIF SubSecTime: 89  48\n",
      "EXIF SubSecTimeOriginal: 89  48\n",
      "EXIF SubSecTimeDigitized: 89  48\n",
      "MakerNote Tag 0x00AA: [12, 565, 1024, 1024, 519, 0]  [12, 568, 1024, 1024, 521, 0]\n",
      "MakerNote Tag 0x4015: [16, 33, 202, 1, 0, 0, 0, 0, 0, 0, 0, 0, 66, 0, 0, 0, 100, 0, 0, 0, ... ]  [16, 33, 202, 1, 0, 0, 0, 0, 0, 0, 0, 0, 67, 0, 0, 0, 100, 0, 0, 0, ... ]\n"
     ]
    }
   ],
   "source": [
    "for row in tags3.keys():\n",
    "    if str(tags3[row]) == str(tags5[row]):\n",
    "        continue\n",
    "    if row in ['JPEGThumbnail']:\n",
    "        continue\n",
    "        \n",
    "    print(f'{row}: {tags3[row]}  {tags5[row]}')"
   ]
  },
  {
   "cell_type": "code",
   "execution_count": 10,
   "id": "shared-optics",
   "metadata": {},
   "outputs": [
    {
     "name": "stdout",
     "output_type": "stream",
     "text": [
      "zero EXIF ExposureBiasValue\n",
      "zero MakerNote Tag 0x00D0\n",
      "zero MakerNote SelfTimer\n",
      "zero MakerNote Unknown\n",
      "zero MakerNote SequenceNumber\n",
      "zero MakerNote AFPointUsed\n",
      "zero MakerNote SubjectDistance\n",
      "zero MakerNote FileNumber\n",
      "zero MakerNote BracketValue\n",
      "zero MakerNote BracketShotNumber\n",
      "zero MakerNote WBBracketValueAB\n",
      "zero MakerNote WBBracketValueGM\n"
     ]
    }
   ],
   "source": [
    "for row in tags3.keys():\n",
    "    if str(tags3[row]) == \"0\":\n",
    "        print(f'zero {row}')\n",
    "        continue\n",
    "    if row in ['JPEGThumbnail', 'EXIF UserComment', 'EXIF MakerNote']:\n",
    "        continue\n",
    "#     print(f'{row}: {type(tags3[row])}')\n",
    "#     print(f'{row}: \"{tags3[row]}\"\\t\"{tags5[row]}\"')"
   ]
  },
  {
   "cell_type": "code",
   "execution_count": 11,
   "id": "stunning-possession",
   "metadata": {},
   "outputs": [
    {
     "name": "stdout",
     "output_type": "stream",
     "text": [
      "{}\n",
      "None\n"
     ]
    }
   ],
   "source": [
    "from libxmp.utils import file_to_dict\n",
    "from libxmp import XMPFiles, XMPMeta, consts\n",
    "star3xmp = testdata / \"7D2_1974.xmp\"\n",
    "star5xmp = testdata / \"7D2_1977.xmp\"\n",
    "\n",
    "xmp = file_to_dict(str(star3xmp))\n",
    "print(xmp)\n",
    "\n",
    "xmpf = XMPFiles(file_path=str(star3xmp))\n",
    "xmp2 = xmpf.get_xmp()\n",
    "print(xmp2)"
   ]
  },
  {
   "cell_type": "code",
   "execution_count": 44,
   "id": "sophisticated-ready",
   "metadata": {},
   "outputs": [
    {
     "name": "stdout",
     "output_type": "stream",
     "text": [
      "XMP:rating 3\n",
      "http://ns.adobe.com/xap/1.0/\n",
      "{'': '', 'xmp:Rating': '3', 'xmp:ModifyDate': '2021-01-30T16:25:01.89', 'xmp:CreateDate': '2021-01-30T16:25:01.89', 'xmp:MetadataDate': '2021-01-30T15:47-08:00'}\n"
     ]
    }
   ],
   "source": [
    "from collections import namedtuple\n",
    "\n",
    "xmp_keydata = namedtuple(\n",
    "    \"XMPKeyData\",\n",
    "    [\"xmp_const\", \"key\", \"value\", \"metadata\"]\n",
    ")\n",
    "with open(star3xmp, 'r') as f:\n",
    "#     print(f.read())\n",
    "    buf = f.read()\n",
    "    \n",
    "xmp = XMPMeta()\n",
    "xmp.parse_from_str(buf)\n",
    "\n",
    "# print(xmp)\n",
    "# print(\"Exif:GPSLatitude = {}\".format(xmp.get_property(consts.XMP_NS_EXIF, 'GPSLatitude')))\n",
    "print(f'XMP:rating {xmp.get_property(consts.XMP_NS_XMP, \"Rating\")}')\n",
    "print(f'{consts.XMP_NS_XMP}')\n",
    "parse = [xmp_keydata(*x) for x in xmp if x[0] == consts.XMP_NS_XMP]\n",
    "\n",
    "print({x.key: x.value for x in parse})\n",
    "derp = {}\n",
    "# for row in parse:\n",
    "#     print(row)\n",
    "#     print('====')\n",
    "#     derp[row.key] = row.value\n",
    "    \n",
    "# print(derp)\n",
    "\n",
    "    "
   ]
  },
  {
   "cell_type": "code",
   "execution_count": 18,
   "id": "announced-turner",
   "metadata": {},
   "outputs": [
    {
     "name": "stdout",
     "output_type": "stream",
     "text": [
      "tests/testdata/.DS_Store .DS_Store \n",
      "tests/testdata/R5A_4554.CR3 R5A_4554 .CR3\n",
      "tests/testdata/R5A_4553.JPG R5A_4553 .JPG\n",
      "tests/testdata/R5A_4552.JPG R5A_4552 .JPG\n",
      "tests/testdata/R5A_4555.CR3 R5A_4555 .CR3\n",
      "tests/testdata/R5A_4557.CR3 R5A_4557 .CR3\n",
      "tests/testdata/R5A_4556.CR3 R5A_4556 .CR3\n",
      "tests/testdata/R5A_4552.CR3 R5A_4552 .CR3\n",
      "tests/testdata/R5A_4555.JPG R5A_4555 .JPG\n",
      "tests/testdata/R5A_4554.JPG R5A_4554 .JPG\n",
      "tests/testdata/R5A_4553.CR3 R5A_4553 .CR3\n",
      "tests/testdata/exiftool_R5A_4554_jpg.txt exiftool_R5A_4554_jpg .txt\n",
      "tests/testdata/R5A_4558.CR3 R5A_4558 .CR3\n",
      "tests/testdata/R5A_4559.CR3 R5A_4559 .CR3\n",
      "tests/testdata/7D2_1976.CR2 7D2_1976 .CR2\n",
      "tests/testdata/exiftool_7D2_1977.txt exiftool_7D2_1977 .txt\n",
      "tests/testdata/exiftool_7D2_1974_jpg.txt exiftool_7D2_1974_jpg .txt\n",
      "tests/testdata/7D2_1977.CR2 7D2_1977 .CR2\n",
      "tests/testdata/7D2_1975.CR2 7D2_1975 .CR2\n",
      "tests/testdata/exiftool_7D2_1974.txt exiftool_7D2_1974 .txt\n",
      "tests/testdata/BACKUP BACKUP \n",
      "tests/testdata/7D2_1974.CR2 7D2_1974 .CR2\n",
      "tests/testdata/7D2_1975.xmp 7D2_1975 .xmp\n",
      "tests/testdata/7D2_1974.xmp 7D2_1974 .xmp\n",
      "tests/testdata/7D2_1976.xmp 7D2_1976 .xmp\n",
      "tests/testdata/.BridgeSort .BridgeSort \n",
      "tests/testdata/7D2_1977.xmp 7D2_1977 .xmp\n"
     ]
    }
   ],
   "source": [
    "for file in testdata.iterdir():\n",
    "    print(f'{file} {file.stem} {file.suffix}')"
   ]
  },
  {
   "cell_type": "code",
   "execution_count": null,
   "id": "widespread-capitol",
   "metadata": {},
   "outputs": [],
   "source": []
  },
  {
   "cell_type": "code",
   "execution_count": null,
   "id": "threatened-myrtle",
   "metadata": {},
   "outputs": [],
   "source": []
  }
 ],
 "metadata": {
  "kernelspec": {
   "display_name": ".venv",
   "language": "python",
   "name": ".venv"
  },
  "language_info": {
   "codemirror_mode": {
    "name": "ipython",
    "version": 3
   },
   "file_extension": ".py",
   "mimetype": "text/x-python",
   "name": "python",
   "nbconvert_exporter": "python",
   "pygments_lexer": "ipython3",
   "version": "3.8.7"
  }
 },
 "nbformat": 4,
 "nbformat_minor": 5
}
